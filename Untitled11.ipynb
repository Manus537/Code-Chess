{
 "cells": [
  {
   "cell_type": "code",
   "execution_count": null,
   "id": "9f3bd21d",
   "metadata": {},
   "outputs": [
    {
     "name": "stdout",
     "output_type": "stream",
     "text": [
      "Enter the position of the first queen: \n"
     ]
    }
   ],
   "source": [
    "# Initialize the chess board\n",
    "board = [[0 for x in range(8)]for y in range(8)]\n",
    "\n",
    "def is_attack(i, j):\n",
    "    # Check if there is a queen in row or column\n",
    "    for k in range(8):\n",
    "        if board[i][k] == 1 or board[k][j] == 1:\n",
    "            return True\n",
    "    # Check diagonals\n",
    "    for k in range(8):\n",
    "        for l in range(8):\n",
    "            if (k+l == i+j) or (k-l == i-j):\n",
    "                if board[k][l] == 1:\n",
    "                    return True\n",
    "    return False\n",
    "\n",
    "def n_queen(n):\n",
    "    # If n is 0, solution found\n",
    "    if n == 0:\n",
    "        return True\n",
    "    for i in range(8):\n",
    "        for j in range(8):\n",
    "            if (not(is_attack(i,j))) and (board[i][j] != 1):\n",
    "                board[i][j] = 1\n",
    "                if n_queen(n-1) == True:\n",
    "                    return True\n",
    "                board[i][j] = 0\n",
    "    return False\n",
    "\n",
    "# Ask user for the position of the first queen\n",
    "print(\"Enter the position of the first queen: \")\n",
    "col = input(\"Enter the column (A-H): \").upper()\n",
    "row = int(input(\"Enter the row (1-8): \"))\n",
    "\n",
    "# Convert alphabet to number\n",
    "col = ord(col) - ord('A')\n",
    "\n",
    "row = row - 1\n",
    "\n",
    "# Place the first queen on the board\n",
    "board[row][col] = 1\n",
    "\n",
    "# Call n_queen function\n",
    "if board[5][4]:\n",
    "    if n_queen(7) == True:\n",
    "        print(\"The 8-queen puzzle solution is: \")\n",
    "        for i in range(8):\n",
    "            for j in range(8):\n",
    "                print(board[i][j], end=\" \")\n",
    "            print()\n",
    "else:\n",
    "    print(\"Solution does not exist\")"
   ]
  }
 ],
 "metadata": {
  "kernelspec": {
   "display_name": "Python 3 (ipykernel)",
   "language": "python",
   "name": "python3"
  },
  "language_info": {
   "codemirror_mode": {
    "name": "ipython",
    "version": 3
   },
   "file_extension": ".py",
   "mimetype": "text/x-python",
   "name": "python",
   "nbconvert_exporter": "python",
   "pygments_lexer": "ipython3",
   "version": "3.9.7"
  }
 },
 "nbformat": 4,
 "nbformat_minor": 5
}
